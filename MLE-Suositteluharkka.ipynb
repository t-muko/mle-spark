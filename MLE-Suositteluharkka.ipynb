{
 "cells": [
  {
   "cell_type": "markdown",
   "metadata": {},
   "source": [
    "### Creating Spark session\n",
    "Spark session is \"the gateway to the structured data processing\".\n",
    "It can be used to create datasets, dataframes, user defined functions and execute SQL.\n",
    "It replaces SQLContext used in previous versions of Apache Spark."
   ]
  },
  {
   "cell_type": "code",
   "execution_count": 1,
   "metadata": {},
   "outputs": [],
   "source": [
    "import sagemaker_pyspark\n",
    "from pyspark.sql import SparkSession\n",
    "\n",
    "# This enables s3 support in Spark. You may need to restart the kernel!\n",
    "classpath = \":\".join(sagemaker_pyspark.classpath_jars())\n",
    "\n",
    "spark = SparkSession.builder \\\n",
    "    .master(\"local\") \\\n",
    "    .appName(\"Teemuko mle\") \\\n",
    "    .config(\"spark.driver.extraClassPath\", classpath) \\\n",
    "    .getOrCreate()"
   ]
  },
  {
   "cell_type": "markdown",
   "metadata": {},
   "source": [
    "### Loading the CSV-data from S3"
   ]
  },
  {
   "cell_type": "code",
   "execution_count": 27,
   "metadata": {},
   "outputs": [],
   "source": [
    "#filePath = \"s3a://mle7-data/train_numeric.csv\"\n",
    "filePath = \"s3a://sagemaker-tmukoo/ratings-5000.csv\"\n",
    "#filePath = \"s3a://sagemaker-tmukoo/ratings.csv\"\n",
    "\n",
    "\n",
    "ratings = spark.read.load(filePath, format=\"csv\", inferSchema=\"true\", header=\"true\")\n",
    "#df=spark.read.csv(filePath,header=True)"
   ]
  },
  {
   "cell_type": "code",
   "execution_count": 22,
   "metadata": {},
   "outputs": [
    {
     "name": "stdout",
     "output_type": "stream",
     "text": [
      "root\n",
      " |-- userId: integer (nullable = true)\n",
      " |-- movieId: integer (nullable = true)\n",
      " |-- rating: double (nullable = true)\n",
      " |-- timestamp: integer (nullable = true)\n",
      "\n"
     ]
    }
   ],
   "source": [
    "ratings.printSchema()"
   ]
  },
  {
   "cell_type": "code",
   "execution_count": 14,
   "metadata": {},
   "outputs": [
    {
     "name": "stdout",
     "output_type": "stream",
     "text": [
      "+-------+-----------------+------------------+------------------+--------------------+\n",
      "|summary|           userId|           movieId|            rating|           timestamp|\n",
      "+-------+-----------------+------------------+------------------+--------------------+\n",
      "|  count|         26024289|          26024289|          26024289|            26024289|\n",
      "|   mean| 135037.090248114|15849.109677040553|3.5280903543608817|1.1712584326913223E9|\n",
      "| stddev|78176.19722170963|31085.257531391508|1.0654427636662405|2.0528887028185263E8|\n",
      "|    min|                1|                 1|               0.5|           789652004|\n",
      "|    max|           270896|            176275|               5.0|          1501829870|\n",
      "+-------+-----------------+------------------+------------------+--------------------+\n",
      "\n"
     ]
    }
   ],
   "source": [
    "\n",
    "ratings.describe().show()"
   ]
  },
  {
   "cell_type": "code",
   "execution_count": 15,
   "metadata": {},
   "outputs": [
    {
     "data": {
      "text/plain": [
       "270896"
      ]
     },
     "execution_count": 15,
     "metadata": {},
     "output_type": "execute_result"
    }
   ],
   "source": [
    "# How many distinct userIds?\n",
    "ratings.select('userId').distinct().count()"
   ]
  },
  {
   "cell_type": "code",
   "execution_count": 16,
   "metadata": {},
   "outputs": [
    {
     "data": {
      "text/plain": [
       "45115"
      ]
     },
     "execution_count": 16,
     "metadata": {},
     "output_type": "execute_result"
    }
   ],
   "source": [
    "# How many distinct movieIds?\n",
    "ratings.select('movieId').distinct().count()"
   ]
  },
  {
   "cell_type": "code",
   "execution_count": 140,
   "metadata": {
    "scrolled": true
   },
   "outputs": [
    {
     "name": "stdout",
     "output_type": "stream",
     "text": [
      "+-------+------------------+--------------+\n",
      "|movieId|       avg(rating)|count(movieId)|\n",
      "+-------+------------------+--------------+\n",
      "|   2571| 4.023809523809524|            21|\n",
      "|    296| 4.368421052631579|            19|\n",
      "|    318| 4.315789473684211|            19|\n",
      "|    260| 4.166666666666667|            18|\n",
      "|   1198| 4.088235294117647|            17|\n",
      "|   2959|             3.875|            16|\n",
      "|    593|           4.28125|            16|\n",
      "|   1196| 4.066666666666666|            15|\n",
      "|   1270| 3.966666666666667|            15|\n",
      "|      1| 4.066666666666666|            15|\n",
      "|    356|3.6333333333333333|            15|\n",
      "|   4993|              4.25|            14|\n",
      "|   1210| 4.107142857142857|            14|\n",
      "|    858| 4.615384615384615|            13|\n",
      "|    527| 4.269230769230769|            13|\n",
      "|   1197| 4.115384615384615|            13|\n",
      "|    588| 4.083333333333333|            12|\n",
      "|    480|             3.875|            12|\n",
      "|   1265|               4.0|            12|\n",
      "|    457|3.7083333333333335|            12|\n",
      "+-------+------------------+--------------+\n",
      "only showing top 20 rows\n",
      "\n"
     ]
    }
   ],
   "source": [
    "# Most mean rating per movie and rating counts\n",
    "average_ratings=ratings.groupBy(ratings.movieId).agg({\"movieId\": \"count\", \"rating\": \"avg\"}).orderBy([\"count(movieId)\"],ascending=0)\n",
    "average_ratings.show()"
   ]
  },
  {
   "cell_type": "code",
   "execution_count": 17,
   "metadata": {},
   "outputs": [
    {
     "name": "stdout",
     "output_type": "stream",
     "text": [
      "+------------------+-----------+-----------+\n",
      "|       avg(rating)|min(rating)|max(rating)|\n",
      "+------------------+-----------+-----------+\n",
      "|3.5280903543608817|        0.5|        5.0|\n",
      "+------------------+-----------+-----------+\n",
      "\n"
     ]
    }
   ],
   "source": [
    "from pyspark.sql.functions import mean, min, max\n",
    "ratings.select([mean('rating'), min('rating'), max('rating')]).show()"
   ]
  },
  {
   "cell_type": "code",
   "execution_count": 18,
   "metadata": {},
   "outputs": [
    {
     "data": {
      "text/plain": [
       "[Row(userId=1, movieId=110, rating=1.0, timestamp=1425941529),\n",
       " Row(userId=1, movieId=147, rating=4.5, timestamp=1425942435),\n",
       " Row(userId=1, movieId=858, rating=5.0, timestamp=1425941523)]"
      ]
     },
     "execution_count": 18,
     "metadata": {},
     "output_type": "execute_result"
    }
   ],
   "source": [
    "ratings.take(3)"
   ]
  },
  {
   "cell_type": "code",
   "execution_count": 151,
   "metadata": {},
   "outputs": [],
   "source": [
    "ratings_pivot=ratings.groupBy('userId')\\\n",
    ".pivot('movieId')\\\n",
    ".agg({\"rating\": \"avg\"})"
   ]
  },
  {
   "cell_type": "code",
   "execution_count": 166,
   "metadata": {},
   "outputs": [
    {
     "name": "stdout",
     "output_type": "stream",
     "text": [
      "+----+\n",
      "| 858|\n",
      "+----+\n",
      "|null|\n",
      "| 3.0|\n",
      "| 4.5|\n",
      "| 5.0|\n",
      "|null|\n",
      "|null|\n",
      "| 4.0|\n",
      "|null|\n",
      "| 5.0|\n",
      "| 5.0|\n",
      "|null|\n",
      "|null|\n",
      "|null|\n",
      "| 4.0|\n",
      "| 4.5|\n",
      "|null|\n",
      "|null|\n",
      "| 5.0|\n",
      "|null|\n",
      "|null|\n",
      "+----+\n",
      "only showing top 20 rows\n",
      "\n"
     ]
    }
   ],
   "source": [
    "ratings_pivot.select('858').show()"
   ]
  },
  {
   "cell_type": "code",
   "execution_count": 138,
   "metadata": {},
   "outputs": [
    {
     "data": {
      "image/png": "[encoded data removed]",
      "text/plain": [
       "<Figure size 432x288 with 1 Axes>"
      ]
     },
     "metadata": {},
     "output_type": "display_data"
    }
   ],
   "source": [
    "import pandas as pd\n",
    "import numpy as np\n",
    "import matplotlib.pyplot as plt\n",
    "plt.rc(\"font\",size=15)\n",
    "ratings.select('rating').toPandas().rating.sort_values().value_counts(sort=False).plot(kind='bar')\n",
    "plt.title('Rating distribution')\n",
    "plt.xlabel('Rating')\n",
    "plt.ylabel('Count')\n",
    "plt.show()"
   ]
  },
  {
   "cell_type": "markdown",
   "metadata": {},
   "source": [
    "### Machine learning to the rescue!\n",
    "Note! SparkML will eventually replace MLlib. => don't use MLlib.\n",
    "\n",
    "Example. ALS based CF: https://spark.apache.org/docs/2.2.0/ml-collaborative-filtering.html"
   ]
  },
  {
   "cell_type": "code",
   "execution_count": 19,
   "metadata": {},
   "outputs": [
    {
     "name": "stdout",
     "output_type": "stream",
     "text": [
      "Root-mean-square error = 0.8436827455622163\n"
     ]
    }
   ],
   "source": [
    "# DON'T! from pyspark.mllib.recommendation import ALS, MatrixFactorizationModel, Rating\n",
    "from pyspark.ml.evaluation import RegressionEvaluator\n",
    "from pyspark.ml.recommendation import ALS\n",
    "from pyspark.sql import Row\n",
    "\n",
    "#lines = spark.read.text(\"data/mllib/als/sample_movielens_ratings.txt\").rdd\n",
    "#parts = lines.map(lambda row: row.value.split(\"::\"))\n",
    "#ratingsRDD = parts.map(lambda p: Row(userId=int(p[0]), movieId=int(p[1]), rating=float(p[2]), timestamp=long(p[3])))\n",
    "#ratings = spark.createDataFrame(ratingsRDD)\n",
    "\n",
    "(training, test) = ratings.randomSplit([0.8, 0.2])\n",
    "\n",
    "# Build the recommendation model using ALS on the training data\n",
    "# Note we set cold start strategy to 'drop' to ensure we don't get NaN evaluation metrics\n",
    "als = ALS(maxIter=5, regParam=0.01, userCol=\"userId\", itemCol=\"movieId\", ratingCol=\"rating\",\n",
    "          coldStartStrategy=\"drop\")\n",
    "model = als.fit(training)\n",
    "\n",
    "# Evaluate the model by computing the RMSE on the test data\n",
    "predictions = model.transform(test)\n",
    "evaluator = RegressionEvaluator(metricName=\"rmse\", labelCol=\"rating\", predictionCol=\"prediction\")\n",
    "rmse = evaluator.evaluate(predictions)\n",
    "print(\"Root-mean-square error = \" + str(rmse))\n",
    "\n",
    "# Generate top 10 movie recommendations for each user\n",
    "userRecs = model.recommendForAllUsers(10)\n",
    "# Generate top 10 user recommendations for each movie\n",
    "movieRecs = model.recommendForAllItems(10)"
   ]
  },
  {
   "cell_type": "code",
   "execution_count": null,
   "metadata": {},
   "outputs": [],
   "source": [
    "userRecs.take(3)"
   ]
  },
  {
   "cell_type": "code",
   "execution_count": null,
   "metadata": {},
   "outputs": [],
   "source": [
    "movieRecs.take(3)"
   ]
  },
  {
   "cell_type": "code",
   "execution_count": 62,
   "metadata": {},
   "outputs": [
    {
     "name": "stdout",
     "output_type": "stream",
     "text": [
      "Pearson correlation matrix:\n",
      "DenseMatrix([[ 1.        ,  0.84034307,  0.21809502,  0.87118712,  0.33952193,\n",
      "               0.64952824],\n",
      "             [ 0.84034307,  1.        ,  0.21521103,  0.70676177,  0.21997067,\n",
      "               0.30621273],\n",
      "             [ 0.21809502,  0.21521103,  1.        ,  0.14043594,  0.6240288 ,\n",
      "              -0.10247663],\n",
      "             [ 0.87118712,  0.70676177,  0.14043594,  1.        ,  0.53441734,\n",
      "               0.87208494],\n",
      "             [ 0.33952193,  0.21997067,  0.6240288 ,  0.53441734,  1.        ,\n",
      "               0.38996632],\n",
      "             [ 0.64952824,  0.30621273, -0.10247663,  0.87208494,  0.38996632,\n",
      "               1.        ]])\n",
      "Spearman correlation matrix:\n",
      "DenseMatrix([[ 1.        ,  0.75370235, -0.08823529,  0.94040326,  0.52363494,\n",
      "               0.77174363],\n",
      "             [ 0.75370235,  1.        , -0.14494276,  0.76503685,  0.15179419,\n",
      "               0.54089872],\n",
      "             [-0.08823529, -0.14494276,  1.        , -0.11941629,  0.49283288,\n",
      "              -0.27439774],\n",
      "             [ 0.94040326,  0.76503685, -0.11941629,  1.        ,  0.56277486,\n",
      "               0.87038828],\n",
      "             [ 0.52363494,  0.15179419,  0.49283288,  0.56277486,  1.        ,\n",
      "               0.28736848],\n",
      "             [ 0.77174363,  0.54089872, -0.27439774,  0.87038828,  0.28736848,\n",
      "               1.        ]])\n"
     ]
    }
   ],
   "source": [
    "# Pearson correlation test\n",
    "# Result... nulls are counted as zeros in Spark => crap results\n",
    "from pyspark.ml.linalg import Vectors\n",
    "from pyspark.ml.stat import Correlation\n",
    "\n",
    "data = [(Vectors.sparse(4, [(0, 1.0), (3, -2.0)]),),\n",
    "        (Vectors.dense([4.0, 5.0, 0.0, 3.0]),),\n",
    "        (Vectors.dense([6.0, 7.0, 0.0, 8.0]),),\n",
    "        (Vectors.sparse(4, [(0, 9.0), (3, 1.0)]),)]\n",
    "\n",
    "data = [(Vectors.dense([7,6,7,4,5,4]),),\n",
    "        (Vectors.sparse(6, [(0,6), (1,7), (3,4), (4,3), (5,4) ]),),\n",
    "        (Vectors.sparse(6, [(1,3),(2,3),(3,1),(4,1)]),),\n",
    "        (Vectors.dense([1,2,2,3,3,4]),),\n",
    "        (Vectors.sparse(6, [(0,1),(2,1),(3,2),(4,3),(5,3)]),),\n",
    "        (Vectors.sparse(6, [(0,5),(1,4),(3,3),(5,4)]),)]\n",
    "\n",
    "df = spark.createDataFrame(data, [\"features\"])\n",
    "\n",
    "r1 = Correlation.corr(df, \"features\").head()\n",
    "print(\"Pearson correlation matrix:\\n\" + str(r1[0]))\n",
    "\n",
    "r2 = Correlation.corr(df, \"features\", \"spearman\").head()\n",
    "print(\"Spearman correlation matrix:\\n\" + str(r2[0]))"
   ]
  },
  {
   "cell_type": "markdown",
   "metadata": {},
   "source": [
    "import pandas as pd\n",
    "spark.createDataFrame(data).toPandas()"
   ]
  },
  {
   "cell_type": "code",
   "execution_count": 78,
   "metadata": {},
   "outputs": [
    {
     "ename": "AttributeError",
     "evalue": "'list' object has no attribute 'head'",
     "output_type": "error",
     "traceback": [
      "\u001b[0;31m---------------------------------------------------------------------------\u001b[0m",
      "\u001b[0;31mAttributeError\u001b[0m                            Traceback (most recent call last)",
      "\u001b[0;32m<ipython-input-78-8a7ddbc825e2>\u001b[0m in \u001b[0;36m<module>\u001b[0;34m()\u001b[0m\n\u001b[0;32m----> 1\u001b[0;31m \u001b[0mdf\u001b[0m\u001b[0;34m.\u001b[0m\u001b[0mcollect\u001b[0m\u001b[0;34m(\u001b[0m\u001b[0;34m)\u001b[0m\u001b[0;34m.\u001b[0m\u001b[0mhead\u001b[0m\u001b[0;34m(\u001b[0m\u001b[0;34m)\u001b[0m\u001b[0;34m\u001b[0m\u001b[0m\n\u001b[0m",
      "\u001b[0;31mAttributeError\u001b[0m: 'list' object has no attribute 'head'"
     ]
    }
   ],
   "source": [
    "# count mean ratings\n"
   ]
  },
  {
   "cell_type": "markdown",
   "metadata": {},
   "source": [
    "pearsonCorr = Correlation.corr(df, \"features\").collect()[0][0]\n",
    "print(str(pearsonCorr).replace('nan', 'NaN'))"
   ]
  },
  {
   "cell_type": "markdown",
   "metadata": {},
   "source": [
    "#import numpy as np\n",
    "#np.average((Vectors.sparse(4, [(0, 2.0), (3, 2.0)]),))\n",
    "#neo=spark.createDataFrame([(Vectors.sparse(4, [(0, 2.0), (3, 2.0)]),)], [\"rating\"])\n",
    "\n",
    "from pyspark.sql.functions import mean, min, max\n",
    "#neo.select([mean('rating'), min('rating'), max('rating')]).show()\n",
    "\n",
    "df[0]"
   ]
  },
  {
   "cell_type": "code",
   "execution_count": null,
   "metadata": {},
   "outputs": [],
   "source": []
  }
 ],
 "metadata": {
  "kernelspec": {
   "display_name": "conda_python3",
   "language": "python",
   "name": "conda_python3"
  },
  "language_info": {
   "codemirror_mode": {
    "name": "ipython",
    "version": 3
   },
   "file_extension": ".py",
   "mimetype": "text/x-python",
   "name": "python",
   "nbconvert_exporter": "python",
   "pygments_lexer": "ipython3",
   "version": "3.6.5"
  }
 },
 "nbformat": 4,
 "nbformat_minor": 2
}
